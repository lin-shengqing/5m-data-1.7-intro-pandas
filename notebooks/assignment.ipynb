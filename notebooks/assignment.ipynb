{
 "cells": [
  {
   "cell_type": "code",
   "execution_count": 1,
   "id": "919b14a9",
   "metadata": {},
   "outputs": [],
   "source": [
    "import pandas as pd\n",
    "import numpy as np"
   ]
  },
  {
   "cell_type": "markdown",
   "id": "68c4d142",
   "metadata": {},
   "source": [
    "Question 1\n",
    "Question: Select all numeric columns except float from the DataFrame dft."
   ]
  },
  {
   "cell_type": "code",
   "execution_count": 13,
   "id": "66541dc0",
   "metadata": {},
   "outputs": [
    {
     "data": {
      "text/html": [
       "<div>\n",
       "<style scoped>\n",
       "    .dataframe tbody tr th:only-of-type {\n",
       "        vertical-align: middle;\n",
       "    }\n",
       "\n",
       "    .dataframe tbody tr th {\n",
       "        vertical-align: top;\n",
       "    }\n",
       "\n",
       "    .dataframe thead th {\n",
       "        text-align: right;\n",
       "    }\n",
       "</style>\n",
       "<table border=\"1\" class=\"dataframe\">\n",
       "  <thead>\n",
       "    <tr style=\"text-align: right;\">\n",
       "      <th></th>\n",
       "      <th>B</th>\n",
       "      <th>G</th>\n",
       "    </tr>\n",
       "  </thead>\n",
       "  <tbody>\n",
       "    <tr>\n",
       "      <th>0</th>\n",
       "      <td>1</td>\n",
       "      <td>3</td>\n",
       "    </tr>\n",
       "    <tr>\n",
       "      <th>1</th>\n",
       "      <td>1</td>\n",
       "      <td>3</td>\n",
       "    </tr>\n",
       "    <tr>\n",
       "      <th>2</th>\n",
       "      <td>1</td>\n",
       "      <td>3</td>\n",
       "    </tr>\n",
       "    <tr>\n",
       "      <th>3</th>\n",
       "      <td>1</td>\n",
       "      <td>3</td>\n",
       "    </tr>\n",
       "    <tr>\n",
       "      <th>4</th>\n",
       "      <td>1</td>\n",
       "      <td>3</td>\n",
       "    </tr>\n",
       "  </tbody>\n",
       "</table>\n",
       "</div>"
      ],
      "text/plain": [
       "   B  G\n",
       "0  1  3\n",
       "1  1  3\n",
       "2  1  3\n",
       "3  1  3\n",
       "4  1  3"
      ]
     },
     "execution_count": 13,
     "metadata": {},
     "output_type": "execute_result"
    }
   ],
   "source": [
    "dft = pd.DataFrame(\n",
    "    {\n",
    "        \"A\": np.random.rand(5), \n",
    "        \"B\": 1, \n",
    "        \"C\": \"foo\", \n",
    "        \"D\": pd.Timestamp(\"20251028\"), \n",
    "        \"E\": pd.Series([2.0] * 5).astype(\"float32\"), \n",
    "        \"F\": False, \n",
    "        \"G\": pd.Series([3] * 5, dtype=\"int8\")\n",
    "    }\n",
    ")\n",
    "dft.select_dtypes(include=['number'], exclude=['float'])"
   ]
  },
  {
   "cell_type": "markdown",
   "id": "8353eb49",
   "metadata": {},
   "source": [
    "Question 2\n",
    "Question: How do you return the last 3 rows of a DataFrame df?"
   ]
  },
  {
   "cell_type": "code",
   "execution_count": null,
   "id": "8448b93c",
   "metadata": {},
   "outputs": [
    {
     "data": {
      "text/html": [
       "<div>\n",
       "<style scoped>\n",
       "    .dataframe tbody tr th:only-of-type {\n",
       "        vertical-align: middle;\n",
       "    }\n",
       "\n",
       "    .dataframe tbody tr th {\n",
       "        vertical-align: top;\n",
       "    }\n",
       "\n",
       "    .dataframe thead th {\n",
       "        text-align: right;\n",
       "    }\n",
       "</style>\n",
       "<table border=\"1\" class=\"dataframe\">\n",
       "  <thead>\n",
       "    <tr style=\"text-align: right;\">\n",
       "      <th></th>\n",
       "      <th>A</th>\n",
       "      <th>B</th>\n",
       "      <th>C</th>\n",
       "      <th>D</th>\n",
       "      <th>E</th>\n",
       "      <th>F</th>\n",
       "      <th>G</th>\n",
       "    </tr>\n",
       "  </thead>\n",
       "  <tbody>\n",
       "    <tr>\n",
       "      <th>2</th>\n",
       "      <td>0.154540</td>\n",
       "      <td>1</td>\n",
       "      <td>foo</td>\n",
       "      <td>2025-10-28</td>\n",
       "      <td>2.0</td>\n",
       "      <td>False</td>\n",
       "      <td>3</td>\n",
       "    </tr>\n",
       "    <tr>\n",
       "      <th>3</th>\n",
       "      <td>0.778322</td>\n",
       "      <td>1</td>\n",
       "      <td>foo</td>\n",
       "      <td>2025-10-28</td>\n",
       "      <td>2.0</td>\n",
       "      <td>False</td>\n",
       "      <td>3</td>\n",
       "    </tr>\n",
       "    <tr>\n",
       "      <th>4</th>\n",
       "      <td>0.367017</td>\n",
       "      <td>1</td>\n",
       "      <td>foo</td>\n",
       "      <td>2025-10-28</td>\n",
       "      <td>2.0</td>\n",
       "      <td>False</td>\n",
       "      <td>3</td>\n",
       "    </tr>\n",
       "  </tbody>\n",
       "</table>\n",
       "</div>"
      ],
      "text/plain": [
       "          A  B    C          D    E      F  G\n",
       "2  0.154540  1  foo 2025-10-28  2.0  False  3\n",
       "3  0.778322  1  foo 2025-10-28  2.0  False  3\n",
       "4  0.367017  1  foo 2025-10-28  2.0  False  3"
      ]
     },
     "execution_count": 14,
     "metadata": {},
     "output_type": "execute_result"
    }
   ],
   "source": [
    "df = pd.DataFrame(\n",
    "    {\n",
    "        \"A\": np.random.rand(5), \n",
    "        \"B\": 1, \n",
    "        \"C\": \"foo\", \n",
    "        \"D\": pd.Timestamp(\"20251028\"), \n",
    "        \"E\": pd.Series([2.0] * 5).astype(\"float32\"), \n",
    "        \"F\": False, \n",
    "        \"G\": pd.Series([3] * 5, dtype=\"int8\")\n",
    "    }\n",
    ") \n",
    "df.tail(3)"
   ]
  },
  {
   "cell_type": "markdown",
   "id": "795a470d",
   "metadata": {},
   "source": [
    "Question 3\n",
    "Question: Return the minimum and maximum of a Series x as a new Series with the index [\"min\", \"max\"]."
   ]
  },
  {
   "cell_type": "code",
   "execution_count": 43,
   "id": "591dd844",
   "metadata": {},
   "outputs": [
    {
     "data": {
      "text/plain": [
       "min     2\n",
       "max    45\n",
       "dtype: int64"
      ]
     },
     "execution_count": 43,
     "metadata": {},
     "output_type": "execute_result"
    }
   ],
   "source": [
    "x = pd.Series([10, 2, 45, 7, 30])\n",
    "pd.Series([x.min(), x.max()], index=[\"min\", \"max\"])\n"
   ]
  },
  {
   "cell_type": "markdown",
   "id": "4299e7fe",
   "metadata": {},
   "source": [
    "Question 4\n",
    "Question: Multiply df1 and df2 (two DataFrames) with a fill_value of 1."
   ]
  },
  {
   "cell_type": "code",
   "execution_count": null,
   "id": "4686b982",
   "metadata": {},
   "outputs": [
    {
     "data": {
      "text/html": [
       "<div>\n",
       "<style scoped>\n",
       "    .dataframe tbody tr th:only-of-type {\n",
       "        vertical-align: middle;\n",
       "    }\n",
       "\n",
       "    .dataframe tbody tr th {\n",
       "        vertical-align: top;\n",
       "    }\n",
       "\n",
       "    .dataframe thead th {\n",
       "        text-align: right;\n",
       "    }\n",
       "</style>\n",
       "<table border=\"1\" class=\"dataframe\">\n",
       "  <thead>\n",
       "    <tr style=\"text-align: right;\">\n",
       "      <th></th>\n",
       "      <th>b</th>\n",
       "      <th>c</th>\n",
       "      <th>d</th>\n",
       "      <th>e</th>\n",
       "    </tr>\n",
       "  </thead>\n",
       "  <tbody>\n",
       "    <tr>\n",
       "      <th>Colorado</th>\n",
       "      <td>6.0</td>\n",
       "      <td>7.0</td>\n",
       "      <td>8.0</td>\n",
       "      <td>NaN</td>\n",
       "    </tr>\n",
       "    <tr>\n",
       "      <th>Ohio</th>\n",
       "      <td>0.0</td>\n",
       "      <td>1.0</td>\n",
       "      <td>8.0</td>\n",
       "      <td>5.0</td>\n",
       "    </tr>\n",
       "    <tr>\n",
       "      <th>Oregon</th>\n",
       "      <td>9.0</td>\n",
       "      <td>NaN</td>\n",
       "      <td>10.0</td>\n",
       "      <td>11.0</td>\n",
       "    </tr>\n",
       "    <tr>\n",
       "      <th>Texas</th>\n",
       "      <td>18.0</td>\n",
       "      <td>4.0</td>\n",
       "      <td>35.0</td>\n",
       "      <td>8.0</td>\n",
       "    </tr>\n",
       "    <tr>\n",
       "      <th>Utah</th>\n",
       "      <td>0.0</td>\n",
       "      <td>NaN</td>\n",
       "      <td>1.0</td>\n",
       "      <td>2.0</td>\n",
       "    </tr>\n",
       "  </tbody>\n",
       "</table>\n",
       "</div>"
      ],
      "text/plain": [
       "             b    c     d     e\n",
       "Colorado   6.0  7.0   8.0   NaN\n",
       "Ohio       0.0  1.0   8.0   5.0\n",
       "Oregon     9.0  NaN  10.0  11.0\n",
       "Texas     18.0  4.0  35.0   8.0\n",
       "Utah       0.0  NaN   1.0   2.0"
      ]
     },
     "execution_count": 21,
     "metadata": {},
     "output_type": "execute_result"
    }
   ],
   "source": [
    "df1 = pd.DataFrame(np.arange(9.).reshape((3, 3)), columns=list(\"bcd\"), index=[\"Ohio\", \"Texas\", \"Colorado\"])\n",
    "df2 = pd.DataFrame(np.arange(12.).reshape((4, 3)), columns=list(\"bde\"), index=[\"Utah\", \"Ohio\", \"Texas\", \"Oregon\"])\n",
    "\n",
    "df1.multiply(df2, fill_value=1)"
   ]
  },
  {
   "cell_type": "markdown",
   "id": "9e443f17",
   "metadata": {},
   "source": [
    "Question 5\n",
    "Question: How do you create a DataFrame from a nested dictionary of dictionaries?"
   ]
  },
  {
   "cell_type": "code",
   "execution_count": 22,
   "id": "f54ba5e0",
   "metadata": {},
   "outputs": [],
   "source": [
    "nested_dict = {'A': {'a': 1, 'b': 2}, 'B': {'a': 3, 'b': 4}}"
   ]
  },
  {
   "cell_type": "code",
   "execution_count": null,
   "id": "7a03c0f3",
   "metadata": {},
   "outputs": [
    {
     "data": {
      "text/html": [
       "<div>\n",
       "<style scoped>\n",
       "    .dataframe tbody tr th:only-of-type {\n",
       "        vertical-align: middle;\n",
       "    }\n",
       "\n",
       "    .dataframe tbody tr th {\n",
       "        vertical-align: top;\n",
       "    }\n",
       "\n",
       "    .dataframe thead th {\n",
       "        text-align: right;\n",
       "    }\n",
       "</style>\n",
       "<table border=\"1\" class=\"dataframe\">\n",
       "  <thead>\n",
       "    <tr style=\"text-align: right;\">\n",
       "      <th></th>\n",
       "      <th>A</th>\n",
       "      <th>B</th>\n",
       "    </tr>\n",
       "  </thead>\n",
       "  <tbody>\n",
       "    <tr>\n",
       "      <th>a</th>\n",
       "      <td>1</td>\n",
       "      <td>3</td>\n",
       "    </tr>\n",
       "    <tr>\n",
       "      <th>b</th>\n",
       "      <td>2</td>\n",
       "      <td>4</td>\n",
       "    </tr>\n",
       "  </tbody>\n",
       "</table>\n",
       "</div>"
      ],
      "text/plain": [
       "   A  B\n",
       "a  1  3\n",
       "b  2  4"
      ]
     },
     "execution_count": 30,
     "metadata": {},
     "output_type": "execute_result"
    }
   ],
   "source": [
    "df3 = pd.DataFrame.from_dict(nested_dict,orient='index')\n",
    "df3"
   ]
  }
 ],
 "metadata": {
  "kernelspec": {
   "display_name": "pds",
   "language": "python",
   "name": "python3"
  },
  "language_info": {
   "codemirror_mode": {
    "name": "ipython",
    "version": 3
   },
   "file_extension": ".py",
   "mimetype": "text/x-python",
   "name": "python",
   "nbconvert_exporter": "python",
   "pygments_lexer": "ipython3",
   "version": "3.10.19"
  }
 },
 "nbformat": 4,
 "nbformat_minor": 5
}
